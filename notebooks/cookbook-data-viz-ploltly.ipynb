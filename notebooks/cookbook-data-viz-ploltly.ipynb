{
 "cells": [
  {
   "cell_type": "markdown",
   "id": "31f05ec4",
   "metadata": {},
   "source": [
    "Dynamic render:\n",
    "https://nbviewer.org/github/pkiage/<>.ipynb"
   ]
  },
  {
   "cell_type": "code",
   "execution_count": null,
   "id": "063ed5db",
   "metadata": {},
   "outputs": [],
   "source": [
    "import plotly.express as px"
   ]
  },
  {
   "cell_type": "markdown",
   "id": "09c5560b",
   "metadata": {},
   "source": [
    "# Functions"
   ]
  },
  {
   "cell_type": "code",
   "execution_count": null,
   "id": "541b342c",
   "metadata": {},
   "outputs": [],
   "source": [
    "def centre_title(fig,title_text):\n",
    "    fig.update_layout(\n",
    "        title = title_text,\n",
    "        title_x =0.5\n",
    "    )"
   ]
  },
  {
   "cell_type": "code",
   "execution_count": null,
   "id": "3eff0e89",
   "metadata": {},
   "outputs": [],
   "source": [
    "def plain_white_background(fig):\n",
    "    fig.update_layout(\n",
    "        plot_bgcolor = '#ffffff',\n",
    "        paper_bgcolor = '#ffffff'\n",
    "    )"
   ]
  },
  {
   "cell_type": "code",
   "execution_count": null,
   "id": "cea452bd",
   "metadata": {},
   "outputs": [],
   "source": [
    "def hide_legend(fig):\n",
    "    fig.update_layout(\n",
    "        showlegend = False,\n",
    "    )\n",
    "\n",
    "def show_legend(fig):\n",
    "    fig.update_layout(\n",
    "        showlegend = True,\n",
    "    )"
   ]
  },
  {
   "cell_type": "code",
   "execution_count": null,
   "id": "9f35f674",
   "metadata": {},
   "outputs": [],
   "source": [
    "def start_axes_from_zero_intersect(fig):    \n",
    "    fig.update_yaxes(\n",
    "        rangemode=\"tozero\")\n",
    "    fig.update_xaxes(\n",
    "        rangemode=\"tozero\")"
   ]
  },
  {
   "cell_type": "code",
   "execution_count": null,
   "id": "b1642f40",
   "metadata": {},
   "outputs": [],
   "source": [
    "def hide_yaxes(fig):\n",
    "    fig.update_yaxes(\n",
    "    visible=False)\n",
    "\n",
    "def show_yaxes(fig):\n",
    "    fig.update_yaxes(\n",
    "    visible=True)"
   ]
  },
  {
   "cell_type": "code",
   "execution_count": null,
   "id": "cc052566",
   "metadata": {},
   "outputs": [],
   "source": [
    "def hide_yaxes_ticks(fig):\n",
    "    fig.update_yaxes(\n",
    "    showticklabels=False)\n",
    "\n",
    "def show_yaxes_ticks(fig):\n",
    "    fig.update_yaxes(\n",
    "    showticklabels=True)"
   ]
  },
  {
   "cell_type": "code",
   "execution_count": null,
   "id": "693367a2",
   "metadata": {},
   "outputs": [],
   "source": [
    "import pandas as pd"
   ]
  },
  {
   "cell_type": "markdown",
   "id": "c5d0115b",
   "metadata": {},
   "source": [
    "# Data Sets"
   ]
  },
  {
   "cell_type": "code",
   "execution_count": null,
   "id": "dda91464",
   "metadata": {},
   "outputs": [],
   "source": [
    "df_tips = px.data.tips()"
   ]
  },
  {
   "cell_type": "code",
   "execution_count": null,
   "id": "d9cfdd63",
   "metadata": {},
   "outputs": [],
   "source": [
    "df_iris = df = px.data.iris()"
   ]
  },
  {
   "cell_type": "markdown",
   "id": "f764f403",
   "metadata": {},
   "source": [
    "# Graph Examples"
   ]
  },
  {
   "cell_type": "markdown",
   "id": "c3a40439",
   "metadata": {},
   "source": [
    "## Boxplot"
   ]
  },
  {
   "cell_type": "code",
   "execution_count": null,
   "id": "ec9d713e",
   "metadata": {},
   "outputs": [],
   "source": [
    "fig = px.box(df_tips, \n",
    "             y=\"tip\", \n",
    "             x=\"day\",\n",
    "             hover_data=['smoker','sex','total_bill'],\n",
    "             color=\"time\", \n",
    "             points=\"all\",\n",
    "             color_discrete_sequence=px.colors.qualitative.D3,\n",
    "             )\n",
    "\n",
    "centre_title(fig,'Box Plot of Tip')\n",
    "\n",
    "plain_white_background(fig)\n",
    "\n",
    "show_legend(fig)\n",
    "\n",
    "start_axes_from_zero_intersect(fig)\n",
    "\n",
    "hide_yaxes(fig)\n",
    "\n",
    "fig.show()"
   ]
  },
  {
   "cell_type": "markdown",
   "id": "d66c3ca9",
   "metadata": {},
   "source": [
    "## Scatter Plot"
   ]
  },
  {
   "cell_type": "code",
   "execution_count": null,
   "id": "67ef1b4d",
   "metadata": {},
   "outputs": [],
   "source": [
    "fig = px.scatter(df, \n",
    "                 x=\"sepal_width\",\n",
    "                y=\"sepal_length\", \n",
    "                color=\"species\",\n",
    "                size='petal_length', \n",
    "                hover_data=['petal_width'],\n",
    "                color_discrete_sequence=px.colors.qualitative.D3)\n",
    "\n",
    "centre_title(fig,'Scatter Plot of Sepal width vs. Sepal length')\n",
    "\n",
    "plain_white_background(fig)\n",
    "\n",
    "show_legend(fig)\n",
    "\n",
    "show_yaxes_ticks(fig)\n",
    "\n",
    "fig.show()"
   ]
  }
 ],
 "metadata": {
  "kernelspec": {
   "display_name": "Python 3",
   "language": "python",
   "name": "python3"
  },
  "language_info": {
   "codemirror_mode": {
    "name": "ipython",
    "version": 3
   },
   "file_extension": ".py",
   "mimetype": "text/x-python",
   "name": "python",
   "nbconvert_exporter": "python",
   "pygments_lexer": "ipython3",
   "version": "3.8.8"
  }
 },
 "nbformat": 4,
 "nbformat_minor": 5
}
